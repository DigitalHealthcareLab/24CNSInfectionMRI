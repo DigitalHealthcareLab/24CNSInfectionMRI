{
 "cells": [
  {
   "cell_type": "markdown",
   "metadata": {},
   "source": [
    "# Imports"
   ]
  },
  {
   "cell_type": "code",
   "execution_count": 2,
   "metadata": {},
   "outputs": [],
   "source": [
    "import torch\n",
    "import pandas as pd\n",
    "from src.stratSampling_byAge_KFold import *\n",
    "from src._cnn_config import *"
   ]
  },
  {
   "cell_type": "markdown",
   "metadata": {},
   "source": [
    "# Configurations"
   ]
  },
  {
   "cell_type": "code",
   "execution_count": 3,
   "metadata": {},
   "outputs": [],
   "source": [
    "random_seed = 77777\n",
    "filenames = torch.load('/home/yhchoi/24BrainMRI_Data/Labels/Internal/filename_labels_internal.pt')\n",
    "age = torch.load('/home/yhchoi/24BrainMRI_Data/Labels/Internal/age_labels_internal_nodupes.pt')\n",
    "pathogens = torch.load('/home/yhchoi/24BrainMRI_Data/Labels/Internal/pathogen_labels_internal_nodupes.pt')\n",
    "\n",
    "id_lookup_dir = '/home/yhchoi/FSTrain_0205/src/labels/id_lookups.csv'\n",
    "prognosis_labels_dir = '/home/yhchoi/FSTrain_0205/src/labels/prognosis_labels_tidiedup.csv'"
   ]
  },
  {
   "cell_type": "markdown",
   "metadata": {},
   "source": [
    "# Fold Construction (Internal)"
   ]
  },
  {
   "cell_type": "code",
   "execution_count": 4,
   "metadata": {},
   "outputs": [],
   "source": [
    "df = pd.read_csv(id_lookup_dir)\n",
    "file_id_dict = df.set_index('Filename')['ID'].to_dict()\n",
    "df2 = pd.read_csv(prognosis_labels_dir)\n",
    "age_id_dict = df2.set_index('ID')['age'].to_dict()\n",
    "pathogen_id_dict = df2.set_index('ID')['label'].to_dict()\n",
    "\n",
    "def pathogen_indices_extraction(age, pathogens, pathogen_to_extract):\n",
    "    pathogen_groups = torch.zeros_like(pathogens)\n",
    "\n",
    "    pathogen_groups[pathogens == pathogen_to_extract] = 1\n",
    "    pathogen_groups[pathogens != pathogen_to_extract] = 0\n",
    "\n",
    "    indices_toextract = torch.where(pathogen_groups == 1)[0]\n",
    "\n",
    "    age_extracted = age[indices_toextract]\n",
    "\n",
    "    return indices_toextract, age_extracted\n",
    "\n",
    "for pathogen in [0, 1, 2, 3]:\n",
    "    ind_e, age_e = pathogen_indices_extraction(age, pathogens, pathogen)\n",
    "    a = Strat_5fold_Split_Indices_ByAge(ind_e, age_e, random_state=random_seed)\n",
    "    torch.save(a, 'kfoldsplitindices_ID_' + str(random_seed) + '_' + str(pathogen) + '.pt')\n",
    "\n",
    "def filename_indices_from_IDs(filenames, file_id_list):\n",
    "    indices = [filenames.index(file_id) for file_id in file_id_list]\n",
    "    return indices\n",
    "\n",
    "df = pd.read_csv('/home/yhchoi/24BrainMRI_Data/Labels/filename_id_internal.csv')\n",
    "\n",
    "file_id_no_dupes = torch.load('/home/yhchoi/24BrainMRI_Data/Labels/Internal/id_labels_internal_nodupes.pt')\n",
    "\n",
    "for pathogen in [0, 1, 2, 3]:\n",
    "    filenamelist_list = []\n",
    "    b = torch.load('kfoldsplitindices_ID_77777_' + str(pathogen) + '.pt')\n",
    "    c = [[file_id_no_dupes[i] for i in b[j]] for j in range(5)]\n",
    "    for IDlist in c:\n",
    "        filenamelist = []\n",
    "        for ID in IDlist:\n",
    "            selected_values = df['Filename'][df['ID'] == int(ID)].to_list()\n",
    "            filenamelist += selected_values\n",
    "        filenamelist_list.append(filenamelist)\n",
    "    torch.save(filenamelist_list, 'kfoldsplitfilenames_' + str(random_seed) + '_' + str(pathogen) + '.pt')\n",
    "    filenameidxlist_list = [torch.tensor(filename_indices_from_IDs(filenames, filenamelist_list[i])) for i in range(5)]\n",
    "    print(filenameidxlist_list)\n",
    "    torch.save(filenameidxlist_list, 'kfoldsplitindices_' + str(random_seed) + '_' + str(pathogen) + '.pt')"
   ]
  },
  {
   "cell_type": "markdown",
   "metadata": {},
   "source": [
    "# Integrity Check"
   ]
  },
  {
   "cell_type": "code",
   "execution_count": 2,
   "metadata": {},
   "outputs": [
    {
     "name": "stdout",
     "output_type": "stream",
     "text": [
      "413\n",
      "tensor([4, 4, 2, 2, 3, 4, 3, 3, 6, 1, 2, 2, 2, 2, 2, 2, 2])\n",
      "tensor([1, 1, 1, 4, 0, 0, 0, 1, 1, 1, 1, 1, 1, 1, 4, 1])\n",
      "tensor([1, 4, 4, 4, 4, 4, 1, 2, 2, 2, 0, 5, 0])\n",
      "tensor([1, 1, 2, 2, 2, 2, 2, 4, 4, 4, 0, 2, 2])\n",
      "tensor([1, 1, 1, 5, 5, 5, 5, 0, 1, 0, 0, 4, 4, 4])\n",
      "####################################\n",
      "tensor([1, 1, 1, 1, 1, 2, 2, 2, 2, 2, 4, 4, 1, 0, 4, 1])\n",
      "tensor([0, 0, 1, 1, 0, 1, 1, 1, 5, 1, 2])\n",
      "tensor([1, 1, 6, 0, 4, 5, 1, 1, 1, 1, 5, 1, 1, 1])\n",
      "tensor([0, 1, 1, 1, 0, 1, 1, 1, 1, 1, 2, 5])\n",
      "tensor([1, 5, 1, 1, 1, 1, 1, 1, 1, 3, 2, 1, 1, 1, 1, 1, 1, 6, 1, 1, 1, 1])\n",
      "####################################\n",
      "tensor([1, 1, 1, 5, 5, 1, 1, 1, 3, 3, 1, 1, 1])\n",
      "tensor([5, 0, 1, 2, 1, 1, 1, 4, 4])\n",
      "tensor([1, 0, 3, 1, 0, 2, 2])\n",
      "tensor([4, 1, 2, 1, 0])\n",
      "tensor([1, 1, 1, 0, 6, 6, 6, 5, 4])\n",
      "####################################\n",
      "tensor([1, 1, 2, 0, 0, 0, 1, 0, 1, 4, 0, 0, 1, 2, 0, 0, 1, 0, 0, 1, 1, 1, 0, 1,\n",
      "        1, 1, 1, 1, 1, 1, 1, 4, 4, 4, 0, 1, 0, 1, 3, 5, 1, 1, 1])\n",
      "tensor([0, 1, 1, 1, 0, 0, 1, 1, 1, 0, 1, 0, 0, 0, 1, 5, 5, 5, 5, 5, 5, 2, 2, 0,\n",
      "        2, 1, 0, 1, 1, 1, 0, 6, 6, 6, 2, 0, 1, 0, 1, 2, 2, 2, 2, 0, 0, 0, 1])\n",
      "tensor([0, 0, 0, 2, 2, 2, 2, 2, 0, 1, 1, 0, 0, 0, 1, 0, 1, 0, 0, 0, 3, 2, 1, 1,\n",
      "        1, 0, 0, 1, 0, 2, 0, 0, 5, 5, 0, 2, 1, 0, 0])\n",
      "tensor([0, 1, 1, 0, 3, 3, 3, 3, 0, 0, 1, 0, 0, 0, 4, 0, 0, 1, 1, 0, 1, 1, 1, 0,\n",
      "        0, 0, 6, 1, 1, 1, 0, 2, 1, 1, 1, 1, 1, 1, 1, 2, 2, 2, 6, 1, 1, 2, 2, 2,\n",
      "        2, 1, 1, 1, 1, 1, 4, 0])\n",
      "tensor([2, 1, 0, 1, 0, 1, 1, 1, 0, 0, 1, 1, 1, 1, 1, 0, 2, 1, 1, 1, 0, 0, 0, 4,\n",
      "        1, 1, 5, 1, 2, 0, 0, 1, 0, 0, 1, 1, 0])\n",
      "####################################\n"
     ]
    }
   ],
   "source": [
    "y = torch.load('/home/yhchoi/24BrainMRI_Data/Labels/Internal/prognosis_labels_internal.pt')\n",
    "print(len(y))\n",
    "for pathogen in [0, 1, 2, 3]:\n",
    "    b = torch.load('kfoldsplitindices_' + str(random_seed) + '_' + str(pathogen) + '.pt')\n",
    "    y1 = [y[b[i]] for i in range(5)]\n",
    "    for k in y1:\n",
    "        print(k)\n",
    "    print('####################################')"
   ]
  },
  {
   "cell_type": "code",
   "execution_count": 15,
   "metadata": {},
   "outputs": [
    {
     "name": "stdout",
     "output_type": "stream",
     "text": [
      "73\n",
      "75\n",
      "43\n",
      "222\n"
     ]
    }
   ],
   "source": [
    "for pathogen in [0, 1, 2, 3]:\n",
    "    a = torch.load('kfoldsplitindices_' + str(random_seed) + '_' + str(pathogen) + '.pt')\n",
    "    print(sum([len(a[i]) for i in range(5)]))"
   ]
  }
 ],
 "metadata": {
  "kernelspec": {
   "display_name": ".venv",
   "language": "python",
   "name": "python3"
  },
  "language_info": {
   "codemirror_mode": {
    "name": "ipython",
    "version": 3
   },
   "file_extension": ".py",
   "mimetype": "text/x-python",
   "name": "python",
   "nbconvert_exporter": "python",
   "pygments_lexer": "ipython3",
   "version": "3.10.4"
  }
 },
 "nbformat": 4,
 "nbformat_minor": 2
}
