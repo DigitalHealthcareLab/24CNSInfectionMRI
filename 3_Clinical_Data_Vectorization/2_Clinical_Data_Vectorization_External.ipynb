{
 "cells": [
  {
   "cell_type": "code",
   "execution_count": 203,
   "metadata": {},
   "outputs": [],
   "source": [
    "import torch\n",
    "from torch.utils.data import TensorDataset, DataLoader\n",
    "import torch.nn as nn\n",
    "import torch.optim as optim\n",
    "import numpy as np\n",
    "import pandas as pd"
   ]
  },
  {
   "cell_type": "code",
   "execution_count": 204,
   "metadata": {},
   "outputs": [],
   "source": [
    "pathogen = 3\n",
    "featnum = 5\n",
    "\n",
    "pathogenfilenamedir_test = f'/home/yhchoi/FSTrain_0205/samplevectors/{pathogen}/filenames_test.pt'\n",
    "pathogenfilenames_test = torch.load(pathogenfilenamedir_test)"
   ]
  },
  {
   "cell_type": "code",
   "execution_count": 205,
   "metadata": {},
   "outputs": [],
   "source": [
    "internal_minmax = pd.read_excel('/home/yhchoi/FSTrain_0205/extdata_labels/sinchon_minmax.xlsx')\n",
    "internal_min_dict = internal_minmax.iloc[0].to_dict()\n",
    "internal_max_dict = internal_minmax.iloc[1].to_dict()"
   ]
  },
  {
   "cell_type": "code",
   "execution_count": 206,
   "metadata": {},
   "outputs": [],
   "source": [
    "all_clinical_features = pd.read_excel('/home/yhchoi/FSTrain_0205/XGBoost/features_0228/feautres.xlsx')\n",
    "\n",
    "acfdict = dict(zip(all_clinical_features['Unnamed: 0'], all_clinical_features['Unnamed: 1']))\n",
    "acfdict_bykey = {1:[], 2:[], 3:[], 4:[], 5:[], 6:[]}\n",
    "\n",
    "for key, value in acfdict.items():\n",
    "    acfdict_bykey[value].append(key)\n",
    "\n",
    "acfdict_bykey[6] = [item for item in acfdict_bykey[6] if item not in ['serum_d_dimer', 'serum_iCa', 'serum_iMg', 'serum_CK_MB', 'serum_TG', 'serum_HDL', 'serum_amylase', 'serum_lipase', 'serum_TSH', 'serum_T3', 'serum_fT4', 'serum_vitB12', 'serum_delta_neutrophil']]\n",
    "clinicals = pd.read_csv('/home/yhchoi/24BMTesting_ExtData/clinical/external_clinical_data.csv')\n",
    "\n",
    "columns = list(clinicals.columns)\n",
    "columns[2] = 'Pathogen'\n",
    "columns[3] = 'Prognosis'\n",
    "clinicals.columns = columns\n",
    "columns_to_exclude = columns[:4]\n",
    "\n",
    "no_minmax = []\n",
    "def minmax_scale(column):\n",
    "    if column.name in columns_to_exclude:\n",
    "        return column\n",
    "    try:\n",
    "        return (column - internal_min_dict[column.name]) / (internal_max_dict[column.name] - internal_min_dict[column.name])\n",
    "    except:\n",
    "        no_minmax.append(column.name)\n",
    "        return column\n",
    "\n",
    "scaled_df = clinicals.apply(minmax_scale)\n",
    "\n",
    "scaled_df.fillna(-1, inplace=True)\n",
    "# clinicals.to_csv('/home/yhchoi/FSTrain_0205/XGBoost/features_0228/clinical_features.csv', index=False)\n",
    "exttestdatasets = [scaled_df[['Filename', 'Prognosis', 'Pathogen'] + acfdict_bykey[i]] for i in range(1, 7)]\n"
   ]
  },
  {
   "cell_type": "code",
   "execution_count": 207,
   "metadata": {},
   "outputs": [],
   "source": [
    "datasetperpathogen_test = exttestdatasets[featnum]\n",
    "datasetperpathogen_test = datasetperpathogen_test[datasetperpathogen_test['Pathogen'] == pathogen]\n",
    "filenamelistperpathogen_test = datasetperpathogen_test['Filename'].tolist()"
   ]
  },
  {
   "cell_type": "code",
   "execution_count": 208,
   "metadata": {},
   "outputs": [],
   "source": [
    "filenameindices_test = [filenamelistperpathogen_test.index(item) for item in pathogenfilenames_test]"
   ]
  },
  {
   "cell_type": "code",
   "execution_count": 209,
   "metadata": {},
   "outputs": [],
   "source": [
    "data_test = exttestdatasets[featnum]\n",
    "data_test = data_test[data_test['Pathogen'] == pathogen]\n",
    "feature_columns = acfdict_bykey[featnum + 1]\n",
    "# Convert data to PyTorch tensors\n",
    "X_test = torch.tensor(data_test[feature_columns].values, dtype=torch.float32)\n",
    "y_test = torch.tensor(data_test['Prognosis'].values, dtype=torch.long)\n",
    "all_featvecs_test = X_test[filenameindices_test]"
   ]
  },
  {
   "cell_type": "code",
   "execution_count": 210,
   "metadata": {},
   "outputs": [],
   "source": [
    "torch.save(all_featvecs_test, f'/home/yhchoi/FSTrain_0205/samplevectors/{pathogen}/clinical_featnum{featnum}_raw_featurevectors_test.pt')"
   ]
  }
 ],
 "metadata": {
  "kernelspec": {
   "display_name": ".venv",
   "language": "python",
   "name": "python3"
  },
  "language_info": {
   "codemirror_mode": {
    "name": "ipython",
    "version": 3
   },
   "file_extension": ".py",
   "mimetype": "text/x-python",
   "name": "python",
   "nbconvert_exporter": "python",
   "pygments_lexer": "ipython3",
   "version": "3.10.4"
  }
 },
 "nbformat": 4,
 "nbformat_minor": 2
}
